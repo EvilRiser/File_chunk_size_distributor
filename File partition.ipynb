{
 "cells": [
  {
   "cell_type": "code",
   "execution_count": 2,
   "metadata": {},
   "outputs": [],
   "source": [
    "import pandas as pd\n",
    "from sqlalchemy import create_engine"
   ]
  },
  {
   "cell_type": "code",
   "execution_count": 3,
   "metadata": {},
   "outputs": [],
   "source": [
    "file = 'E:/retail.csv'"
   ]
  },
  {
   "cell_type": "code",
   "execution_count": 4,
   "metadata": {},
   "outputs": [
    {
     "name": "stdout",
     "output_type": "stream",
     "text": [
      "connected <sqlalchemy.engine.base.Connection object at 0x000002C604A3CBC8>\n"
     ]
    }
   ],
   "source": [
    "csv_database = create_engine('sqlite:///csv_database.db')\n",
    "cd=csv_database.connect()\n",
    "try:\n",
    "    print(\"connected\",cd)\n",
    "except:\n",
    "    print(\"nnot connected\")"
   ]
  },
  {
   "cell_type": "code",
   "execution_count": 18,
   "metadata": {},
   "outputs": [
    {
     "name": "stderr",
     "output_type": "stream",
     "text": [
      "b'Skipping line 1474982: expected 46 fields, saw 47\\n'\n",
      "b'Skipping line 1545475: expected 46 fields, saw 47\\nSkipping line 1545553: expected 46 fields, saw 47\\n'\n",
      "b'Skipping line 1561320: expected 46 fields, saw 47\\nSkipping line 1562016: expected 46 fields, saw 47\\nSkipping line 1562017: expected 46 fields, saw 47\\nSkipping line 1562499: expected 46 fields, saw 47\\nSkipping line 1562538: expected 46 fields, saw 47\\nSkipping line 1563176: expected 46 fields, saw 47\\nSkipping line 1563177: expected 46 fields, saw 47\\nSkipping line 1565520: expected 46 fields, saw 47\\nSkipping line 1566075: expected 46 fields, saw 47\\nSkipping line 1566555: expected 46 fields, saw 47\\nSkipping line 1569149: expected 46 fields, saw 47\\nSkipping line 1569150: expected 46 fields, saw 47\\nSkipping line 1570253: expected 46 fields, saw 47\\nSkipping line 1571802: expected 46 fields, saw 47\\nSkipping line 1571803: expected 46 fields, saw 47\\nSkipping line 1573306: expected 46 fields, saw 47\\n'\n",
      "b'Skipping line 1584623: expected 46 fields, saw 47\\nSkipping line 1585614: expected 46 fields, saw 47\\nSkipping line 1585615: expected 46 fields, saw 47\\nSkipping line 1585616: expected 46 fields, saw 47\\nSkipping line 1585617: expected 46 fields, saw 47\\nSkipping line 1585627: expected 46 fields, saw 47\\nSkipping line 1585628: expected 46 fields, saw 47\\nSkipping line 1585655: expected 46 fields, saw 47\\nSkipping line 1587695: expected 46 fields, saw 47\\n'\n",
      "b'Skipping line 1609570: expected 46 fields, saw 47\\nSkipping line 1612042: expected 46 fields, saw 47\\nSkipping line 1615906: expected 46 fields, saw 47\\n'\n",
      "b'Skipping line 1627467: expected 46 fields, saw 47\\nSkipping line 1627747: expected 46 fields, saw 47\\nSkipping line 1628680: expected 46 fields, saw 47\\nSkipping line 1632359: expected 46 fields, saw 47\\nSkipping line 1633569: expected 46 fields, saw 47\\n'\n",
      "b'Skipping line 1643833: expected 46 fields, saw 47\\n'\n",
      "b'Skipping line 1664330: expected 46 fields, saw 47\\n'\n",
      "b'Skipping line 1691846: expected 46 fields, saw 47\\nSkipping line 1691847: expected 46 fields, saw 47\\nSkipping line 1693228: expected 46 fields, saw 47\\nSkipping line 1693230: expected 46 fields, saw 47\\nSkipping line 1695633: expected 46 fields, saw 47\\nSkipping line 1700705: expected 46 fields, saw 47\\nSkipping line 1700717: expected 46 fields, saw 47\\nSkipping line 1701870: expected 46 fields, saw 47\\nSkipping line 1702777: expected 46 fields, saw 47\\nSkipping line 1702825: expected 46 fields, saw 47\\n'\n",
      "b'Skipping line 1715332: expected 46 fields, saw 47\\nSkipping line 1715888: expected 46 fields, saw 47\\nSkipping line 1720192: expected 46 fields, saw 47\\nSkipping line 1720193: expected 46 fields, saw 47\\nSkipping line 1720196: expected 46 fields, saw 47\\nSkipping line 1720198: expected 46 fields, saw 47\\n'\n",
      "b'Skipping line 1722434: expected 46 fields, saw 47\\nSkipping line 1722435: expected 46 fields, saw 47\\nSkipping line 1734495: expected 46 fields, saw 47\\n'\n",
      "b'Skipping line 1738317: expected 46 fields, saw 47\\nSkipping line 1752604: expected 46 fields, saw 47\\n'\n",
      "b'Skipping line 1765142: expected 46 fields, saw 47\\nSkipping line 1765143: expected 46 fields, saw 47\\n'\n",
      "b'Skipping line 1770540: expected 46 fields, saw 47\\n'\n",
      "b'Skipping line 1832919: expected 46 fields, saw 47\\n'\n",
      "b'Skipping line 1838529: expected 46 fields, saw 47\\nSkipping line 1843488: expected 46 fields, saw 47\\n'\n",
      "b'Skipping line 1916758: expected 46 fields, saw 47\\n'\n",
      "b'Skipping line 1918745: expected 46 fields, saw 47\\n'\n",
      "b'Skipping line 1962998: expected 46 fields, saw 47\\n'\n",
      "b'Skipping line 1967776: expected 46 fields, saw 47\\n'\n",
      "b'Skipping line 1991677: expected 46 fields, saw 47\\nSkipping line 1997584: expected 46 fields, saw 47\\n'\n",
      "b'Skipping line 2000773: expected 46 fields, saw 47\\n'\n",
      "C:\\Users\\HP\\Anaconda3\\lib\\site-packages\\IPython\\core\\interactiveshell.py:3051: DtypeWarning: Columns (25,31,41,42) have mixed types. Specify dtype option on import or set low_memory=False.\n",
      "  interactivity=interactivity, compiler=compiler, result=result)\n",
      "b'Skipping line 3027958: expected 46 fields, saw 47\\n'\n",
      "b'Skipping line 3696707: expected 46 fields, saw 47\\nSkipping line 3696708: expected 46 fields, saw 47\\nSkipping line 3700699: expected 46 fields, saw 47\\n'\n",
      "C:\\Users\\HP\\Anaconda3\\lib\\site-packages\\IPython\\core\\interactiveshell.py:3051: DtypeWarning: Columns (25,31,32,42) have mixed types. Specify dtype option on import or set low_memory=False.\n",
      "  interactivity=interactivity, compiler=compiler, result=result)\n",
      "C:\\Users\\HP\\Anaconda3\\lib\\site-packages\\IPython\\core\\interactiveshell.py:3051: DtypeWarning: Columns (25,29,31,32,41,42) have mixed types. Specify dtype option on import or set low_memory=False.\n",
      "  interactivity=interactivity, compiler=compiler, result=result)\n",
      "b'Skipping line 6081686: expected 46 fields, saw 47\\n'\n",
      "C:\\Users\\HP\\Anaconda3\\lib\\site-packages\\IPython\\core\\interactiveshell.py:3051: DtypeWarning: Columns (13,21,23,25,31,32,33,42) have mixed types. Specify dtype option on import or set low_memory=False.\n",
      "  interactivity=interactivity, compiler=compiler, result=result)\n",
      "b'Skipping line 7382022: expected 46 fields, saw 47\\nSkipping line 7382027: expected 46 fields, saw 47\\nSkipping line 7384605: expected 46 fields, saw 47\\nSkipping line 7384607: expected 46 fields, saw 47\\nSkipping line 7385821: expected 46 fields, saw 47\\nSkipping line 7389596: expected 46 fields, saw 47\\nSkipping line 7390583: expected 46 fields, saw 47\\nSkipping line 7390584: expected 46 fields, saw 47\\nSkipping line 7391692: expected 46 fields, saw 47\\nSkipping line 7391693: expected 46 fields, saw 47\\nSkipping line 7391694: expected 46 fields, saw 47\\n'\n",
      "b'Skipping line 7397465: expected 46 fields, saw 47\\nSkipping line 7397467: expected 46 fields, saw 47\\nSkipping line 7397468: expected 46 fields, saw 47\\nSkipping line 7397593: expected 46 fields, saw 47\\nSkipping line 7400923: expected 46 fields, saw 47\\nSkipping line 7401367: expected 46 fields, saw 47\\nSkipping line 7402937: expected 46 fields, saw 47\\nSkipping line 7404748: expected 46 fields, saw 47\\nSkipping line 7407592: expected 46 fields, saw 47\\nSkipping line 7407614: expected 46 fields, saw 47\\nSkipping line 7407935: expected 46 fields, saw 47\\nSkipping line 7408045: expected 46 fields, saw 47\\nSkipping line 7409181: expected 46 fields, saw 47\\n'\n",
      "b'Skipping line 7410719: expected 46 fields, saw 47\\nSkipping line 7413887: expected 46 fields, saw 47\\nSkipping line 7413890: expected 46 fields, saw 47\\nSkipping line 7414005: expected 46 fields, saw 47\\nSkipping line 7414011: expected 46 fields, saw 47\\nSkipping line 7424273: expected 46 fields, saw 47\\n'\n",
      "b'Skipping line 7441122: expected 46 fields, saw 47\\nSkipping line 7441124: expected 46 fields, saw 47\\n'\n",
      "b'Skipping line 7446279: expected 46 fields, saw 47\\nSkipping line 7453737: expected 46 fields, saw 47\\n'\n",
      "b'Skipping line 7463593: expected 46 fields, saw 47\\nSkipping line 7465888: expected 46 fields, saw 47\\n'\n",
      "b'Skipping line 7477984: expected 46 fields, saw 47\\n'\n",
      "b'Skipping line 7856203: expected 46 fields, saw 47\\n'\n",
      "b'Skipping line 8404033: expected 46 fields, saw 47\\nSkipping line 8404085: expected 46 fields, saw 47\\n'\n",
      "b'Skipping line 8423922: expected 46 fields, saw 47\\nSkipping line 8423923: expected 46 fields, saw 47\\n'\n",
      "b'Skipping line 8428298: expected 46 fields, saw 47\\n'\n",
      "b'Skipping line 8453850: expected 46 fields, saw 47\\nSkipping line 8453851: expected 46 fields, saw 47\\nSkipping line 8453852: expected 46 fields, saw 47\\n'\n",
      "b'Skipping line 8970323: expected 46 fields, saw 47\\n'\n",
      "b'Skipping line 10580553: expected 46 fields, saw 47\\nSkipping line 10580554: expected 46 fields, saw 47\\n'\n",
      "b'Skipping line 11082496: expected 46 fields, saw 47\\n'\n",
      "b'Skipping line 11124464: expected 46 fields, saw 47\\nSkipping line 11130629: expected 46 fields, saw 47\\n'\n",
      "b'Skipping line 11132713: expected 46 fields, saw 47\\n'\n",
      "b'Skipping line 11199723: expected 46 fields, saw 47\\n'\n",
      "b'Skipping line 12523059: expected 46 fields, saw 47\\nSkipping line 12523060: expected 46 fields, saw 47\\n'\n",
      "b'Skipping line 13515596: expected 46 fields, saw 47\\nSkipping line 13517367: expected 46 fields, saw 47\\n'\n",
      "b'Skipping line 13528018: expected 46 fields, saw 47\\nSkipping line 13530866: expected 46 fields, saw 47\\nSkipping line 13535962: expected 46 fields, saw 47\\nSkipping line 13536350: expected 46 fields, saw 47\\nSkipping line 13536536: expected 46 fields, saw 47\\nSkipping line 13536709: expected 46 fields, saw 47\\nSkipping line 13539482: expected 46 fields, saw 47\\nSkipping line 13539483: expected 46 fields, saw 47\\nSkipping line 13540649: expected 46 fields, saw 47\\n'\n"
     ]
    },
    {
     "name": "stderr",
     "output_type": "stream",
     "text": [
      "b'Skipping line 13583292: expected 46 fields, saw 47\\n'\n",
      "b'Skipping line 13590584: expected 46 fields, saw 47\\nSkipping line 13593392: expected 46 fields, saw 47\\nSkipping line 13602927: expected 46 fields, saw 47\\n'\n",
      "b'Skipping line 13726561: expected 46 fields, saw 47\\nSkipping line 13727562: expected 46 fields, saw 47\\nSkipping line 13729805: expected 46 fields, saw 47\\nSkipping line 13729835: expected 46 fields, saw 47\\nSkipping line 13729836: expected 46 fields, saw 47\\nSkipping line 13731322: expected 46 fields, saw 47\\nSkipping line 13732008: expected 46 fields, saw 47\\nSkipping line 13733222: expected 46 fields, saw 47\\nSkipping line 13733262: expected 46 fields, saw 47\\nSkipping line 13734154: expected 46 fields, saw 47\\nSkipping line 13734930: expected 46 fields, saw 47\\nSkipping line 13735027: expected 46 fields, saw 47\\nSkipping line 13735951: expected 46 fields, saw 47\\nSkipping line 13736305: expected 46 fields, saw 47\\nSkipping line 13736320: expected 46 fields, saw 47\\nSkipping line 13736321: expected 46 fields, saw 47\\n'\n",
      "b'Skipping line 13737936: expected 46 fields, saw 47\\nSkipping line 13738113: expected 46 fields, saw 47\\nSkipping line 13738559: expected 46 fields, saw 47\\nSkipping line 13739179: expected 46 fields, saw 47\\nSkipping line 13739991: expected 46 fields, saw 47\\nSkipping line 13742301: expected 46 fields, saw 47\\nSkipping line 13742314: expected 46 fields, saw 47\\nSkipping line 13743322: expected 46 fields, saw 47\\nSkipping line 13743423: expected 46 fields, saw 47\\nSkipping line 13745777: expected 46 fields, saw 47\\nSkipping line 13745791: expected 46 fields, saw 47\\nSkipping line 13745792: expected 46 fields, saw 47\\nSkipping line 13746145: expected 46 fields, saw 47\\nSkipping line 13747625: expected 46 fields, saw 47\\nSkipping line 13747721: expected 46 fields, saw 47\\nSkipping line 13750048: expected 46 fields, saw 47\\nSkipping line 13750927: expected 46 fields, saw 47\\nSkipping line 13751676: expected 46 fields, saw 47\\n'\n",
      "b'Skipping line 13753879: expected 46 fields, saw 47\\nSkipping line 13754393: expected 46 fields, saw 47\\nSkipping line 13755939: expected 46 fields, saw 47\\nSkipping line 13759871: expected 46 fields, saw 47\\nSkipping line 13765092: expected 46 fields, saw 47\\nSkipping line 13765576: expected 46 fields, saw 47\\n'\n",
      "b'Skipping line 13772969: expected 46 fields, saw 47\\nSkipping line 13772974: expected 46 fields, saw 47\\nSkipping line 13772975: expected 46 fields, saw 47\\nSkipping line 13772976: expected 46 fields, saw 47\\nSkipping line 13772977: expected 46 fields, saw 47\\nSkipping line 13772979: expected 46 fields, saw 47\\nSkipping line 13772984: expected 46 fields, saw 47\\nSkipping line 13775172: expected 46 fields, saw 47\\nSkipping line 13775235: expected 46 fields, saw 47\\nSkipping line 13776787: expected 46 fields, saw 47\\nSkipping line 13776788: expected 46 fields, saw 47\\nSkipping line 13776789: expected 46 fields, saw 47\\nSkipping line 13776790: expected 46 fields, saw 47\\nSkipping line 13776792: expected 46 fields, saw 47\\nSkipping line 13784292: expected 46 fields, saw 47\\n'\n",
      "b'Skipping line 13818837: expected 46 fields, saw 47\\nSkipping line 13818853: expected 46 fields, saw 47\\n'\n",
      "b'Skipping line 13822991: expected 46 fields, saw 47\\nSkipping line 13823062: expected 46 fields, saw 47\\nSkipping line 13826988: expected 46 fields, saw 47\\nSkipping line 13828820: expected 46 fields, saw 47\\nSkipping line 13830874: expected 46 fields, saw 47\\n'\n",
      "b'Skipping line 13844706: expected 46 fields, saw 47\\nSkipping line 13844707: expected 46 fields, saw 47\\nSkipping line 13844754: expected 46 fields, saw 47\\nSkipping line 13846144: expected 46 fields, saw 47\\nSkipping line 13846627: expected 46 fields, saw 47\\nSkipping line 13851050: expected 46 fields, saw 47\\n'\n",
      "b'Skipping line 13878063: expected 46 fields, saw 47\\nSkipping line 13879726: expected 46 fields, saw 47\\nSkipping line 13879895: expected 46 fields, saw 47\\n'\n",
      "b'Skipping line 13921315: expected 46 fields, saw 47\\nSkipping line 13925489: expected 46 fields, saw 47\\nSkipping line 13927373: expected 46 fields, saw 47\\n'\n",
      "b'Skipping line 13934329: expected 46 fields, saw 47\\nSkipping line 13934759: expected 46 fields, saw 47\\nSkipping line 13936437: expected 46 fields, saw 47\\nSkipping line 13937266: expected 46 fields, saw 47\\nSkipping line 13937680: expected 46 fields, saw 47\\nSkipping line 13940126: expected 46 fields, saw 47\\nSkipping line 13941852: expected 46 fields, saw 47\\nSkipping line 13942010: expected 46 fields, saw 47\\nSkipping line 13942963: expected 46 fields, saw 47\\nSkipping line 13944155: expected 46 fields, saw 47\\nSkipping line 13947241: expected 46 fields, saw 47\\nSkipping line 13948908: expected 46 fields, saw 47\\nSkipping line 13949137: expected 46 fields, saw 47\\nSkipping line 13949193: expected 46 fields, saw 47\\nSkipping line 13949319: expected 46 fields, saw 47\\n'\n",
      "b'Skipping line 13951041: expected 46 fields, saw 47\\nSkipping line 13951970: expected 46 fields, saw 47\\nSkipping line 13952527: expected 46 fields, saw 47\\nSkipping line 13952713: expected 46 fields, saw 47\\nSkipping line 13952724: expected 46 fields, saw 47\\nSkipping line 13952760: expected 46 fields, saw 47\\nSkipping line 13953750: expected 46 fields, saw 47\\nSkipping line 13953787: expected 46 fields, saw 47\\nSkipping line 13955890: expected 46 fields, saw 47\\nSkipping line 13955951: expected 46 fields, saw 47\\nSkipping line 13956097: expected 46 fields, saw 47\\nSkipping line 13958026: expected 46 fields, saw 47\\nSkipping line 13958136: expected 46 fields, saw 47\\nSkipping line 13959761: expected 46 fields, saw 47\\nSkipping line 13962049: expected 46 fields, saw 47\\nSkipping line 13963083: expected 46 fields, saw 47\\nSkipping line 13964490: expected 46 fields, saw 47\\nSkipping line 13965069: expected 46 fields, saw 47\\nSkipping line 13966097: expected 46 fields, saw 47\\nSkipping line 13966384: expected 46 fields, saw 47\\n'\n",
      "b'Skipping line 13968240: expected 46 fields, saw 47\\nSkipping line 13968508: expected 46 fields, saw 47\\nSkipping line 13968549: expected 46 fields, saw 47\\nSkipping line 13970195: expected 46 fields, saw 47\\nSkipping line 13972482: expected 46 fields, saw 47\\nSkipping line 13973870: expected 46 fields, saw 47\\nSkipping line 13975228: expected 46 fields, saw 47\\nSkipping line 13976957: expected 46 fields, saw 47\\nSkipping line 13979242: expected 46 fields, saw 47\\nSkipping line 13979918: expected 46 fields, saw 47\\nSkipping line 13980242: expected 46 fields, saw 47\\nSkipping line 13980300: expected 46 fields, saw 47\\n'\n",
      "C:\\Users\\HP\\Anaconda3\\lib\\site-packages\\IPython\\core\\interactiveshell.py:3051: DtypeWarning: Columns (13,21,23,25,31,32,33,41,42) have mixed types. Specify dtype option on import or set low_memory=False.\n",
      "  interactivity=interactivity, compiler=compiler, result=result)\n",
      "b'Skipping line 14020343: expected 46 fields, saw 47\\nSkipping line 14021427: expected 46 fields, saw 47\\nSkipping line 14025870: expected 46 fields, saw 47\\nSkipping line 14030883: expected 46 fields, saw 47\\n'\n",
      "b'Skipping line 14033945: expected 46 fields, saw 47\\nSkipping line 14039980: expected 46 fields, saw 47\\nSkipping line 14044848: expected 46 fields, saw 47\\nSkipping line 14047283: expected 46 fields, saw 47\\nSkipping line 14047662: expected 46 fields, saw 47\\nSkipping line 14048674: expected 46 fields, saw 47\\n'\n",
      "b'Skipping line 14145213: expected 46 fields, saw 47\\nSkipping line 14147034: expected 46 fields, saw 47\\nSkipping line 14147035: expected 46 fields, saw 47\\n'\n",
      "b'Skipping line 14149967: expected 46 fields, saw 47\\nSkipping line 14149968: expected 46 fields, saw 47\\nSkipping line 14149969: expected 46 fields, saw 47\\nSkipping line 14149970: expected 46 fields, saw 47\\nSkipping line 14152382: expected 46 fields, saw 47\\nSkipping line 14156116: expected 46 fields, saw 47\\nSkipping line 14156304: expected 46 fields, saw 47\\nSkipping line 14156706: expected 46 fields, saw 47\\nSkipping line 14156707: expected 46 fields, saw 47\\nSkipping line 14158122: expected 46 fields, saw 47\\nSkipping line 14158605: expected 46 fields, saw 47\\nSkipping line 14158606: expected 46 fields, saw 47\\nSkipping line 14158607: expected 46 fields, saw 47\\n'\n"
     ]
    },
    {
     "name": "stderr",
     "output_type": "stream",
     "text": [
      "b'Skipping line 14164576: expected 46 fields, saw 47\\nSkipping line 14164688: expected 46 fields, saw 47\\nSkipping line 14164701: expected 46 fields, saw 47\\nSkipping line 14165929: expected 46 fields, saw 47\\nSkipping line 14168763: expected 46 fields, saw 47\\nSkipping line 14168928: expected 46 fields, saw 47\\nSkipping line 14169748: expected 46 fields, saw 47\\nSkipping line 14171373: expected 46 fields, saw 47\\nSkipping line 14172242: expected 46 fields, saw 47\\nSkipping line 14172513: expected 46 fields, saw 47\\nSkipping line 14173553: expected 46 fields, saw 47\\nSkipping line 14174274: expected 46 fields, saw 47\\n'\n",
      "b'Skipping line 14205336: expected 46 fields, saw 47\\nSkipping line 14207200: expected 46 fields, saw 47\\nSkipping line 14207203: expected 46 fields, saw 47\\nSkipping line 14207204: expected 46 fields, saw 47\\nSkipping line 14207205: expected 46 fields, saw 47\\nSkipping line 14207206: expected 46 fields, saw 47\\nSkipping line 14207207: expected 46 fields, saw 47\\nSkipping line 14210886: expected 46 fields, saw 47\\n'\n",
      "b'Skipping line 14218541: expected 46 fields, saw 47\\n'\n",
      "b'Skipping line 14230393: expected 46 fields, saw 47\\n'\n",
      "C:\\Users\\HP\\Anaconda3\\lib\\site-packages\\IPython\\core\\interactiveshell.py:3051: DtypeWarning: Columns (25,32,41,42) have mixed types. Specify dtype option on import or set low_memory=False.\n",
      "  interactivity=interactivity, compiler=compiler, result=result)\n"
     ]
    }
   ],
   "source": [
    "chunksize = 1000000\n",
    "i = 0\n",
    "j = 1\n",
    "cc=1\n",
    "for df in pd.read_csv(file, delimiter=\";\",error_bad_lines=False,encoding='latin-1',chunksize=chunksize, iterator=True):\n",
    "      #df = df.rename(columns={c: c.replace(' ', '') for c in df.columns}) \n",
    "      df.index += j\n",
    "      i+=1\n",
    "      #df.to_sql('table', csv_database, if_exists='append')\n",
    "      j = df.index[-1] + 1\n",
    "      hh='E:/ANM/f'+ str(cc)+'.csv'\n",
    "      cc=cc+1\n",
    "      df.to_csv(hh)\n",
    "    "
   ]
  },
  {
   "cell_type": "code",
   "execution_count": 21,
   "metadata": {},
   "outputs": [],
   "source": [
    "# df = pd.read_sql_query('SELECT * FROM table;', csv_database)"
   ]
  },
  {
   "cell_type": "code",
   "execution_count": null,
   "metadata": {},
   "outputs": [],
   "source": []
  },
  {
   "cell_type": "code",
   "execution_count": null,
   "metadata": {},
   "outputs": [],
   "source": []
  }
 ],
 "metadata": {
  "kernelspec": {
   "display_name": "Python 3",
   "language": "python",
   "name": "python3"
  },
  "language_info": {
   "codemirror_mode": {
    "name": "ipython",
    "version": 3
   },
   "file_extension": ".py",
   "mimetype": "text/x-python",
   "name": "python",
   "nbconvert_exporter": "python",
   "pygments_lexer": "ipython3",
   "version": "3.7.6"
  }
 },
 "nbformat": 4,
 "nbformat_minor": 2
}
